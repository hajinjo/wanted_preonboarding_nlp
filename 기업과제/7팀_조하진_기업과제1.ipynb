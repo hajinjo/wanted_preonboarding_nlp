{
  "nbformat": 4,
  "nbformat_minor": 0,
  "metadata": {
    "colab": {
      "name": "문자열매칭_알고리즘.ipynb",
      "provenance": [],
      "collapsed_sections": []
    },
    "kernelspec": {
      "name": "python3",
      "display_name": "Python 3"
    },
    "language_info": {
      "name": "python"
    }
  },
  "cells": [
    {
      "cell_type": "markdown",
      "source": [
        "# **문자열 매칭 알고리즘 구현**\n",
        "\n",
        "문자열 집합 S가 존재한다 ex) S ={\"www\",\"xman\",\"yman\"}.\n",
        "\n",
        "\n",
        "임의의 문자열이 N개 주어졌을때 각 임의의 문자열 내에 집합 S에 속하는 문자열이 존재하는지 판별하시오. \n",
        "\n",
        "\n"
      ],
      "metadata": {
        "id": "Go_BDHT4LSna"
      }
    },
    {
      "cell_type": "markdown",
      "source": [
        "# 입력\n",
        "집합 S의 크기 N(1<=N<=1000)\n",
        "\n",
        "다음 N개 줄에 집합 S의 원소들이 주어진다. 이 문자열의 길이는 100을 넘지 않는다. \n",
        "\n",
        "다음 줄에 답을 판별해야 하는 문자열의 개수 Q가 주어진다. (1<=Q<=1000)\n",
        "\n",
        "다음 Q개 줄에 답을 판별해야 하는 문자열이 주어진다. 이 문자열의 길이는 10000을 넘지 않는다. \n",
        "\n",
        "입력으로 주어지는 모든 문자열은 알파벳 소문자로만 이루어져 있다. \n"
      ],
      "metadata": {
        "id": "CxV2WfpEgOxn"
      }
    },
    {
      "cell_type": "code",
      "source": [
        "# 예제 입력 \n",
        "N = int(input())\n",
        "S = input()\n",
        "Q = int(input())\n",
        "string = input()"
      ],
      "metadata": {
        "colab": {
          "base_uri": "https://localhost:8080/"
        },
        "id": "nDH3_FuTO1X4",
        "outputId": "94f92b1f-0f18-4582-ede6-a8b00b6d7ebf"
      },
      "execution_count": 151,
      "outputs": [
        {
          "name": "stdout",
          "output_type": "stream",
          "text": [
            "9\n",
            "\"aaa\",\"\"aaaabb\", \"\"aabbcc\", \"abb\", \"bcc\", \"bbcc\", \"aabbccdd\", \"aaabb”, “cccd”\n",
            "1\n",
            "\"aaaabbaabbccdd\"\n"
          ]
        }
      ]
    },
    {
      "cell_type": "markdown",
      "source": [
        "1. 문자열의 여러 부분 문자열 중 하나라도 집합 S에 있으면 'YES'출력, 아무것도 없으면'NO'출력"
      ],
      "metadata": {
        "id": "LFz1jj1nM9lu"
      }
    },
    {
      "cell_type": "code",
      "source": [
        "import re\n",
        "\n",
        "# 영어만 남기고 공백으로 split\n",
        "S_list = re.sub('[^a-zA-Z]',' ',S).split()\n",
        "string = re.sub('[^a-zA-Z]',' ',string).split()\n",
        "\n",
        "S_list"
      ],
      "metadata": {
        "colab": {
          "base_uri": "https://localhost:8080/"
        },
        "id": "WyRdt8z3Phow",
        "outputId": "fe75b299-7cc6-4864-efa9-3438f87d1ba5"
      },
      "execution_count": 152,
      "outputs": [
        {
          "output_type": "execute_result",
          "data": {
            "text/plain": [
              "['aaa', 'aaaabb', 'aabbcc', 'abb', 'bcc', 'bbcc', 'aabbccdd', 'aaabb', 'cccd']"
            ]
          },
          "metadata": {},
          "execution_count": 152
        }
      ]
    },
    {
      "cell_type": "code",
      "source": [
        "for q in string:\n",
        "    for s in S_list:\n",
        "        if s in q:\n",
        "          print(\"YES\", end=' ')\n",
        "        else:\n",
        "          print(\"NO\", end=' ')\n",
        "    print(\"\\n\") # 판별해야할 문자열 개수 대로 줄바꿈 기능\n",
        "\n",
        "  "
      ],
      "metadata": {
        "colab": {
          "base_uri": "https://localhost:8080/"
        },
        "id": "v4gbna4JM7oQ",
        "outputId": "3e0f243f-922c-4c91-cafe-60515a6896f8"
      },
      "execution_count": 155,
      "outputs": [
        {
          "output_type": "stream",
          "name": "stdout",
          "text": [
            "YES YES YES YES YES YES YES YES NO \n",
            "\n"
          ]
        }
      ]
    },
    {
      "cell_type": "markdown",
      "source": [
        "2. 주어진 문자열의 여러부분 문자열 중 처음 매칭된 패턴과 문자열 시작 포지션을 출력한다. "
      ],
      "metadata": {
        "id": "D2q1Lcj8SkQJ"
      }
    },
    {
      "cell_type": "code",
      "source": [
        "for q in string:\n",
        "    for s in S_list:\n",
        "        if s in q:\n",
        "            i = q.index(s)\n",
        "            print(f\"#pos = {i}, pattern = {s}\")\n"
      ],
      "metadata": {
        "colab": {
          "base_uri": "https://localhost:8080/"
        },
        "id": "nBANtG_WNRC6",
        "outputId": "49525ef6-f878-4e04-90cf-05fadccf4629"
      },
      "execution_count": 161,
      "outputs": [
        {
          "output_type": "stream",
          "name": "stdout",
          "text": [
            "#pos = 0, pattern = aaa\n",
            "#pos = 0, pattern = aaaabb\n",
            "#pos = 6, pattern = aabbcc\n",
            "#pos = 3, pattern = abb\n",
            "#pos = 9, pattern = bcc\n",
            "#pos = 8, pattern = bbcc\n",
            "#pos = 6, pattern = aabbccdd\n",
            "#pos = 1, pattern = aaabb\n"
          ]
        }
      ]
    },
    {
      "cell_type": "markdown",
      "source": [
        "3. 주어진 문자열의 여러부분 문자열 중 매칭 가능한 모든 패턴과 문자열 시작 포지션을 출력한다. "
      ],
      "metadata": {
        "id": "ny-Ai4KrWsp4"
      }
    },
    {
      "cell_type": "code",
      "source": [
        "index = -1\n",
        "for q in string:\n",
        "    for s in S_list:\n",
        "        while True:\n",
        "            index = q.find(s, index + 1)\n",
        "            if index == -1:\n",
        "                break\n",
        "            print(f'pos = {index}, pattern = {s}')"
      ],
      "metadata": {
        "colab": {
          "base_uri": "https://localhost:8080/"
        },
        "id": "svmGrH2ZeE7f",
        "outputId": "88bf957c-446c-49a8-905f-fbf8cb9da447"
      },
      "execution_count": 162,
      "outputs": [
        {
          "output_type": "stream",
          "name": "stdout",
          "text": [
            "pos = 0, pattern = aaa\n",
            "pos = 1, pattern = aaa\n",
            "pos = 0, pattern = aaaabb\n",
            "pos = 6, pattern = aabbcc\n",
            "pos = 3, pattern = abb\n",
            "pos = 7, pattern = abb\n",
            "pos = 9, pattern = bcc\n",
            "pos = 8, pattern = bbcc\n",
            "pos = 6, pattern = aabbccdd\n",
            "pos = 1, pattern = aaabb\n"
          ]
        }
      ]
    }
  ]
}